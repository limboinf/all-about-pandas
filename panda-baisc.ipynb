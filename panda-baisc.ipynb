{
 "cells": [
  {
   "cell_type": "markdown",
   "metadata": {},
   "source": [
    "## 一、Numpy basic"
   ]
  },
  {
   "cell_type": "markdown",
   "metadata": {},
   "source": [
    "NumPy是Python的一个**高性能矩阵运算**的科学计算库\n",
    "\n",
    "NumPy的ndarray提供了一维到三维的数据结构，图2-2所示为**同构数据多维容器**，所有元素必须是相同类型。我们经常用到的是一维和二维数组\n",
    "\n",
    "> ndarray对数据向量化，利用隐式逐元素方式的广播机制进行算术运算、逻辑运算、位运算、函数调用等，可以快速、批量地处理数据"
   ]
  },
  {
   "cell_type": "code",
   "execution_count": 2,
   "metadata": {},
   "outputs": [],
   "source": [
    "import numpy as np"
   ]
  },
  {
   "cell_type": "code",
   "execution_count": 5,
   "metadata": {},
   "outputs": [],
   "source": [
    "### 数据类型\n",
    "\n",
    "# np.int64      # 有符号64位整型\n",
    "# np.float32    # 标准双精度浮点类型\n",
    "# np.complex    # 由128位的浮点数组成的复数类型\n",
    "# np.bool       # bool类型（True或False）\n",
    "# np.object     # Python中的object类型\n",
    "# np.unicode    # 固定长度的unicode类型\n",
    "# np.NaN        # np.float的子类型\n",
    "# np.nan"
   ]
  },
  {
   "cell_type": "code",
   "execution_count": 6,
   "metadata": {},
   "outputs": [
    {
     "data": {
      "text/plain": [
       "array([[3, 7, 7],\n",
       "       [5, 9, 6],\n",
       "       [2, 8, 3]])"
      ]
     },
     "execution_count": 6,
     "metadata": {},
     "output_type": "execute_result"
    }
   ],
   "source": [
    "np.arange(1, 10)\n",
    "np.random.randn(6, 4)  # 6*4 随机数组\n",
    "np.random.randint(2, 10, size=(3, 3))   # 3 * 3, 从2-10随机数构成的数组"
   ]
  },
  {
   "cell_type": "markdown",
   "metadata": {},
   "source": [
    "## 二、Pandas 数据结构\n",
    "\n",
    "- Series （序列、数列、系数）: 带标签的一维同构数组\n",
    "- DataFrame: 带标签的大小可变的二维异构表格\n",
    "\n",
    "![](https://github.com/limboinf/all-about-pandas/blob/master/resources/dataframe-struct.jpeg?raw=true)\n",
    "\n",
    "轴（axis）：仅用在DataFrame结构中，代表数据的方向，如行和列，用0代表列（默认），1代表行。"
   ]
  },
  {
   "cell_type": "markdown",
   "metadata": {},
   "source": [
    "### 2.1 Series"
   ]
  },
  {
   "cell_type": "code",
   "execution_count": 21,
   "metadata": {},
   "outputs": [
    {
     "data": {
      "text/plain": [
       "1    a\n",
       "2    a\n",
       "3    a\n",
       "dtype: object"
      ]
     },
     "execution_count": 21,
     "metadata": {},
     "output_type": "execute_result"
    }
   ],
   "source": [
    "# 创建一个Series\n",
    "s = pd.Series([100,200,300,400], dtype='int32', name='idx')\n",
    "\n",
    "pd.Series(['java', 'python'])\n",
    "\n",
    "pd.Series(['java', 'python', 'golang'], index=[100,200,300])    # 带索引，index数组大小必须和data数组大小一致\n",
    "\n",
    "s = pd.Series(np.random.rand(5), index=['a', 'b', 'c', 'd', 'e'])   # 使用Numpy ndarray构造 Series\n",
    "s.index\n",
    "\n",
    "pd.Series({'a': 1, 'b': 2, 'c': 3})     # 使用字典构建，index为key, data就是values\n",
    "pd.Series({'a': 1, 'b': 2, 'c': 3}, index=['b', 'a', 'cc'])     # 使用字典构建, data就是values, 可以更改index顺序，注意必须保持key一致\n",
    "\n",
    "# 使用标量\n",
    "# 对于一个具体的值，如果不指定索引，则其长度为1；如果指定索引，则其长度为索引的数量，每个索引的值都是它。\n",
    "pd.Series('a')\n",
    "\n",
    "pd.Series('a', index=range(1, 4))"
   ]
  },
  {
   "cell_type": "markdown",
   "metadata": {},
   "source": [
    "### 2.2 DataFrame"
   ]
  },
  {
   "cell_type": "code",
   "execution_count": 6,
   "metadata": {},
   "outputs": [
    {
     "data": {
      "text/html": [
       "<div>\n",
       "<style scoped>\n",
       "    .dataframe tbody tr th:only-of-type {\n",
       "        vertical-align: middle;\n",
       "    }\n",
       "\n",
       "    .dataframe tbody tr th {\n",
       "        vertical-align: top;\n",
       "    }\n",
       "\n",
       "    .dataframe thead th {\n",
       "        text-align: right;\n",
       "    }\n",
       "</style>\n",
       "<table border=\"1\" class=\"dataframe\">\n",
       "  <thead>\n",
       "    <tr style=\"text-align: right;\">\n",
       "      <th></th>\n",
       "      <th>国家</th>\n",
       "      <th>地区</th>\n",
       "      <th>人口</th>\n",
       "      <th>GDP</th>\n",
       "    </tr>\n",
       "  </thead>\n",
       "  <tbody>\n",
       "    <tr>\n",
       "      <th>0</th>\n",
       "      <td>中国</td>\n",
       "      <td>亚洲</td>\n",
       "      <td>13.97</td>\n",
       "      <td>14.34</td>\n",
       "    </tr>\n",
       "    <tr>\n",
       "      <th>1</th>\n",
       "      <td>美国</td>\n",
       "      <td>北美</td>\n",
       "      <td>3.28</td>\n",
       "      <td>21.43</td>\n",
       "    </tr>\n",
       "    <tr>\n",
       "      <th>2</th>\n",
       "      <td>日本</td>\n",
       "      <td>亚洲</td>\n",
       "      <td>1.26</td>\n",
       "      <td>5.08</td>\n",
       "    </tr>\n",
       "  </tbody>\n",
       "</table>\n",
       "</div>"
      ],
      "text/plain": [
       "   国家  地区     人口    GDP\n",
       "0  中国  亚洲  13.97  14.34\n",
       "1  美国  北美   3.28  21.43\n",
       "2  日本  亚洲   1.26   5.08"
      ]
     },
     "execution_count": 6,
     "metadata": {},
     "output_type": "execute_result"
    }
   ],
   "source": [
    "# 创建 df\n",
    "import pandas as pd\n",
    "\n",
    "df = pd.DataFrame({'国家': ['中国', '美国', '日本'],\n",
    "                   '地区': ['亚洲', '北美', '亚洲'],\n",
    "                   '人口': [13.97, 3.28, 1.26],    \n",
    "                   'GDP': [14.34, 21.43, 5.08]\n",
    "                   })\n",
    "\n",
    "df"
   ]
  },
  {
   "cell_type": "code",
   "execution_count": 7,
   "metadata": {},
   "outputs": [
    {
     "data": {
      "text/html": [
       "<div>\n",
       "<style scoped>\n",
       "    .dataframe tbody tr th:only-of-type {\n",
       "        vertical-align: middle;\n",
       "    }\n",
       "\n",
       "    .dataframe tbody tr th {\n",
       "        vertical-align: top;\n",
       "    }\n",
       "\n",
       "    .dataframe thead th {\n",
       "        text-align: right;\n",
       "    }\n",
       "</style>\n",
       "<table border=\"1\" class=\"dataframe\">\n",
       "  <thead>\n",
       "    <tr style=\"text-align: right;\">\n",
       "      <th></th>\n",
       "      <th>A</th>\n",
       "      <th>B</th>\n",
       "      <th>C</th>\n",
       "      <th>D</th>\n",
       "      <th>E</th>\n",
       "    </tr>\n",
       "  </thead>\n",
       "  <tbody>\n",
       "    <tr>\n",
       "      <th>0</th>\n",
       "      <td>1</td>\n",
       "      <td>2022-05-18</td>\n",
       "      <td>1.0</td>\n",
       "      <td>100</td>\n",
       "      <td>java</td>\n",
       "    </tr>\n",
       "    <tr>\n",
       "      <th>1</th>\n",
       "      <td>1</td>\n",
       "      <td>2022-05-18</td>\n",
       "      <td>1.0</td>\n",
       "      <td>100</td>\n",
       "      <td>python</td>\n",
       "    </tr>\n",
       "    <tr>\n",
       "      <th>2</th>\n",
       "      <td>1</td>\n",
       "      <td>2022-05-18</td>\n",
       "      <td>1.0</td>\n",
       "      <td>100</td>\n",
       "      <td>golang</td>\n",
       "    </tr>\n",
       "    <tr>\n",
       "      <th>3</th>\n",
       "      <td>1</td>\n",
       "      <td>2022-05-18</td>\n",
       "      <td>1.0</td>\n",
       "      <td>100</td>\n",
       "      <td>c</td>\n",
       "    </tr>\n",
       "  </tbody>\n",
       "</table>\n",
       "</div>"
      ],
      "text/plain": [
       "   A          B    C    D       E\n",
       "0  1 2022-05-18  1.0  100    java\n",
       "1  1 2022-05-18  1.0  100  python\n",
       "2  1 2022-05-18  1.0  100  golang\n",
       "3  1 2022-05-18  1.0  100       c"
      ]
     },
     "execution_count": 7,
     "metadata": {},
     "output_type": "execute_result"
    }
   ],
   "source": [
    "# 其他更复杂的构造\n",
    "df2 = pd.DataFrame({\n",
    "    'A': 1,\n",
    "    'B': pd.Timestamp('2022-05-18'),\n",
    "    'C': pd.Series(1, index=list(range(4)), dtype='float32'),\n",
    "    'D': np.array([100] * 4, dtype='int32'),\n",
    "    'E': pd.Categorical(['java', 'python', 'golang', 'c'])\n",
    "})\n",
    "df2"
   ]
  },
  {
   "cell_type": "code",
   "execution_count": 26,
   "metadata": {},
   "outputs": [
    {
     "data": {
      "text/plain": [
       "dtype('float64')"
      ]
     },
     "execution_count": 26,
     "metadata": {},
     "output_type": "execute_result"
    }
   ],
   "source": [
    "# 查看数据类型\n",
    "\n",
    "df.dtypes       # all df\n",
    "df.人口.dtype   # specifal column 人口"
   ]
  },
  {
   "cell_type": "code",
   "execution_count": 10,
   "metadata": {},
   "outputs": [
    {
     "name": "stdout",
     "output_type": "stream",
     "text": [
      "<class 'pandas.core.series.Series'> <class 'pandas.core.frame.DataFrame'>\n"
     ]
    }
   ],
   "source": [
    "print(type(s), type(df))"
   ]
  }
 ],
 "metadata": {
  "interpreter": {
   "hash": "06e2e24afd76c2d8d8527a76980fdb0d4eeecec2cf88dc68f519bd137bfc0e22"
  },
  "kernelspec": {
   "display_name": "Python 3.9.0 64-bit ('venv': venv)",
   "language": "python",
   "name": "python3"
  },
  "language_info": {
   "codemirror_mode": {
    "name": "ipython",
    "version": 3
   },
   "file_extension": ".py",
   "mimetype": "text/x-python",
   "name": "python",
   "nbconvert_exporter": "python",
   "pygments_lexer": "ipython3",
   "version": "3.9.0"
  },
  "orig_nbformat": 4
 },
 "nbformat": 4,
 "nbformat_minor": 2
}
