{
 "cells": [
  {
   "cell_type": "markdown",
   "metadata": {},
   "source": [
    "## Numpy basic"
   ]
  },
  {
   "cell_type": "markdown",
   "metadata": {},
   "source": [
    "NumPy是Python的一个**高性能矩阵运算**的科学计算库\n",
    "\n",
    "NumPy的ndarray提供了一维到三维的数据结构，图2-2所示为**同构数据多维容器**，所有元素必须是相同类型。我们经常用到的是一维和二维数组\n",
    "\n",
    "> ndarray对数据向量化，利用隐式逐元素方式的广播机制进行算术运算、逻辑运算、位运算、函数调用等，可以快速、批量地处理数据"
   ]
  },
  {
   "cell_type": "code",
   "execution_count": 2,
   "metadata": {},
   "outputs": [],
   "source": [
    "import numpy as np"
   ]
  },
  {
   "cell_type": "code",
   "execution_count": 5,
   "metadata": {},
   "outputs": [],
   "source": [
    "### 数据类型\n",
    "\n",
    "# np.int64      # 有符号64位整型\n",
    "# np.float32    # 标准双精度浮点类型\n",
    "# np.complex    # 由128位的浮点数组成的复数类型\n",
    "# np.bool       # bool类型（True或False）\n",
    "# np.object     # Python中的object类型\n",
    "# np.unicode    # 固定长度的unicode类型\n",
    "# np.NaN        # np.float的子类型\n",
    "# np.nan"
   ]
  },
  {
   "cell_type": "code",
   "execution_count": 6,
   "metadata": {},
   "outputs": [
    {
     "data": {
      "text/plain": [
       "array([[3, 7, 7],\n",
       "       [5, 9, 6],\n",
       "       [2, 8, 3]])"
      ]
     },
     "execution_count": 6,
     "metadata": {},
     "output_type": "execute_result"
    }
   ],
   "source": [
    "np.arange(1, 10)\n",
    "np.random.randn(6, 4)  # 6*4 随机数组\n",
    "np.random.randint(2, 10, size=(3, 3))   # 3 * 3, 从2-10随机数构成的数组"
   ]
  },
  {
   "cell_type": "markdown",
   "metadata": {},
   "source": [
    "## Pandas 数据结构\n",
    "\n",
    "- Series （序列、数列、系数）: 带标签的一维同构数组\n",
    "- DataFrame: 带标签的大小可变的二维异构表格\n",
    "\n",
    "![](https://github.com/limboinf/all-about-pandas/blob/master/resources/dataframe-struct.jpeg?raw=true)\n",
    "\n",
    "轴（axis）：仅用在DataFrame结构中，代表数据的方向，如行和列，用0代表列（默认），1代表行。"
   ]
  },
  {
   "cell_type": "code",
   "execution_count": null,
   "metadata": {},
   "outputs": [],
   "source": []
  }
 ],
 "metadata": {
  "interpreter": {
   "hash": "06e2e24afd76c2d8d8527a76980fdb0d4eeecec2cf88dc68f519bd137bfc0e22"
  },
  "kernelspec": {
   "display_name": "Python 3.9.0 64-bit ('venv': venv)",
   "language": "python",
   "name": "python3"
  },
  "language_info": {
   "codemirror_mode": {
    "name": "ipython",
    "version": 3
   },
   "file_extension": ".py",
   "mimetype": "text/x-python",
   "name": "python",
   "nbconvert_exporter": "python",
   "pygments_lexer": "ipython3",
   "version": "3.9.0"
  },
  "orig_nbformat": 4
 },
 "nbformat": 4,
 "nbformat_minor": 2
}
